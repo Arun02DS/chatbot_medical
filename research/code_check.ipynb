{
 "cells": [
  {
   "cell_type": "code",
   "execution_count": 3,
   "metadata": {},
   "outputs": [],
   "source": [
    "import os\n",
    "from pathlib import Path\n",
    "from langchain.document_loaders import PyPDFLoader, DirectoryLoader\n",
    "\n",
    "FILE_PATH = Path(\"C:/Users/Arun Singh Negi/Documents/medical_bot/data\")\n",
    "\n",
    "def load_pdf(data):\n",
    "    loader = DirectoryLoader(data,\n",
    "                    glob=\"*.pdf\",\n",
    "                    loader_cls=PyPDFLoader)\n",
    "\n",
    "    documents = loader.load()\n",
    "\n",
    "    return documents"
   ]
  },
  {
   "cell_type": "code",
   "execution_count": 4,
   "metadata": {},
   "outputs": [],
   "source": [
    "extracted_data = load_pdf(FILE_PATH)"
   ]
  },
  {
   "cell_type": "code",
   "execution_count": 7,
   "metadata": {},
   "outputs": [
    {
     "data": {
      "text/plain": [
       "[Document(page_content='', metadata={'source': 'C:\\\\Users\\\\Arun Singh Negi\\\\Documents\\\\medical_bot\\\\data\\\\Medical_book.pdf', 'page': 0}),\n",
       " Document(page_content='TheGALE\\nENCYCLOPEDIA\\nofMEDICINE\\nSECOND EDITION', metadata={'source': 'C:\\\\Users\\\\Arun Singh Negi\\\\Documents\\\\medical_bot\\\\data\\\\Medical_book.pdf', 'page': 1}),\n",
       " Document(page_content='TheGALE\\nENCYCLOPEDIA\\nofMEDICINE\\nSECOND EDITION\\nJACQUELINE L. LONGE, EDITOR\\nDEIRDRE S. BLANCHFIELD, ASSOCIATE EDITOR\\nVOLUME\\nA-B1', metadata={'source': 'C:\\\\Users\\\\Arun Singh Negi\\\\Documents\\\\medical_bot\\\\data\\\\Medical_book.pdf', 'page': 2}),\n",
       " Document(page_content='STAFF\\nJacqueline L. Longe, Project Editor\\nDeirdre S. Blanchfield, Associate Editor\\nChristine B. Jeryan, Managing Editor\\nDonna Olendorf, Senior Editor\\nStacey Blachford, Associate Editor\\nKate Kretschmann, Melissa C. McDade, Ryan\\nThomason, Assistant Editors\\nMark Springer, Technical Specialist\\nAndrea Lopeman, Programmer/Analyst\\nBarbara J. Yarrow, Manager, Imaging and Multimedia\\nContent\\nRobyn V . Young, Project Manager, Imaging and\\nMultimedia Content\\nDean Dauphinais, Senior Editor, Imaging and\\nMultimedia Content\\nKelly A. Quin, Editor, Imaging and Multimedia Content\\nLeitha Etheridge-Sims, Mary K. Grimes, Dave Oblender,\\nImage Catalogers\\nPamela A. Reed, Imaging Coordinator\\nRandy Bassett, Imaging Supervisor\\nRobert Duncan, Senior Imaging Specialist\\nDan Newell, Imaging Specialist\\nChristine O’Bryan, Graphic Specialist\\nMaria Franklin, Permissions Manager\\nMargaret A. Chamberlain, Permissions Specialist\\nMichelle DiMercurio, Senior Art Director\\nMike Logusz, Graphic Artist\\nMary Beth Trimper, Manager, Composition and\\nElectronic Prepress\\nEvi Seoud, Assistant Manager, Composition Purchasing\\nand Electronic Prepress\\nDorothy Maki, Manufacturing Manager\\nWendy Blurton, Senior Manufacturing SpecialistThe GALE\\nENCYCLOPEDIA\\nof MEDICINE\\nSECOND EDITIONSince this page cannot legibly accommodate all copyright notices, the\\nacknowledgments constitute an extension of the copyright notice.\\nWhile every effort has been made to ensure the reliability of the infor-\\nmation presented in this publication, the Gale Group neither guaranteesthe accuracy of the data contained herein nor assumes any responsibili-ty for errors, omissions or discrepancies. The Gale Group accepts nopayment for listing, and inclusion in the publication of any organiza-tion, agency, institution, publication, service, or individual does notimply endorsement of the editor or publisher. Errors brought to theattention of the publisher and verified to the satisfaction of the publish-er will be corrected in future editions.\\nThis book is printed on recycled paper that meets Environmental Pro-\\ntection Agency standards.\\nThe paper used in this publication meets the minimum requirements of\\nAmerican National Standard for Information Sciences-PermanencePaper for Printed Library Materials, ANSI Z39.48-1984.\\nThis publication is a creative work fully protected by all applicable\\ncopyright laws, as well as by misappropriation, trade secret, unfair com-petition, and other applicable laws. The authors and editor of this workhave added value to the underlying factual material herein through oneor more of the following: unique and original selection, coordination,expression, arrangement, and classification of the information.\\nGale Group and design is a trademark used herein under license.All rights to this publication will be vigorously defended.Copyright © 2002\\nGale Group27500 Drake RoadFarmington Hills, MI 48331-3535\\nAll rights reserved including the right of reproduction in whole or in\\npart in any form.\\nISBN 0-7876-5489-2 (set)\\n0-7876-5490-6 (V ol. 1)0-7876-5491-4 (V ol. 2)0-7876-5492-2 (V ol. 3)0-7876-5493-0 (V ol. 4)0-7876-5494-9 (V ol. 5)\\nPrinted in the United States of America\\n10 9 8 7 6 5 4 3 2 1\\nLibrary of Congress Cataloging-in-Publication Data\\nGale encyclopedia of medicine / Jacqueline L. Longe, editor;\\nDeirdre S. Blanchfield, associate editor — 2nd ed.\\np. cm.\\nIncludes bibliographical references and index.\\nContents: V ol. 1. A-B — v. 2. C-F — v. 3.G-M — v. 4. N-S — v. 5. T-Z.\\nISBN 0-7876-5489-2 (set: hardcover) — ISBN 0-7876-5490-6\\n(vol. 1) — ISBN 0-7876-5491-4 (vol. 2) — ISBN 0-7876-5492-2(vol. 3) — ISBN 0-7876-5493-0 (vol. 4) — ISBN 0-7876-5494-9(vol. 5)\\n1. Internal medicine—Encyclopedias. I. Longe, Jacqueline L. \\nII. Blanchfield, Deirdre S. III. Gale Research Company.\\nRC41.G35 2001\\n616’.003—dc21\\n2001051245', metadata={'source': 'C:\\\\Users\\\\Arun Singh Negi\\\\Documents\\\\medical_bot\\\\data\\\\Medical_book.pdf', 'page': 3}),\n",
       " Document(page_content='Introduction .................................................... ix\\nAdvisory Board .............................................. xi\\nContributors ................................................. xiii\\nEntries\\nVolume 1: A-B .............................................. 1\\nVolume 2: C-F .......................................... 625\\nVolume 3: G-M ....................................... 1375\\nVolume 4: N-S ........................................ 2307\\nVolume 5: T-Z ........................................ 3237\\nOrganizations ............................................ 3603\\nGeneral Index ............................................ 3625\\nGALE ENCYCLOPEDIA OF MEDICINE 2 VCONTENTS', metadata={'source': 'C:\\\\Users\\\\Arun Singh Negi\\\\Documents\\\\medical_bot\\\\data\\\\Medical_book.pdf', 'page': 4}),\n",
       " Document(page_content='The Gale Encyclopedia of Medicine 2 is a medical ref-\\nerence product designed to inform and educate readersabout a wide variety of disorders, conditions, treatments,and diagnostic tests. The Gale Group believes the productto be comprehensive, but not necessarily definitive. It isintended to supplement, not replace, consultation with aphysician or other healthcare practitioner. While the GaleGroup has made substantial efforts to provide informationthat is accurate, comprehensive, and up-to-date, the GaleGroup makes no representations or warranties of anykind, including without limitation, warranties of mer-\\nchantability or fitness for a particular purpose, nor does itguarantee the accuracy, comprehensiveness, or timelinessof the information contained in this product. Readersshould be aware that the universe of medical knowledgeis constantly growing and changing, and that differencesof medical opinion exist among authorities. Readers arealso advised to seek professional diagnosis and treatmentfor any medical condition, and to discuss informationobtained from this book with their health care provider.\\nGALE ENCYCLOPEDIA OF MEDICINE 2 VIIPLEASE READ—IMPORTANT INFORMATION', metadata={'source': 'C:\\\\Users\\\\Arun Singh Negi\\\\Documents\\\\medical_bot\\\\data\\\\Medical_book.pdf', 'page': 5}),\n",
       " Document(page_content='The Gale Encyclopedia of Medicine 2 (GEM2) is a\\none-stop source for medical information on nearly 1,700common medical disorders, conditions, tests, and treat-ments, including high-profile diseases such as AIDS,Alzheimer’s disease, cancer, and heart attack. This ency-clopedia avoids medical jargon and uses language thatlaypersons can understand, while still providing thor-ough coverage of each topic. The Gale Encyclopedia of\\nMedicine 2 fills a gap between basic consumer health\\nresources, such as single-volume family medical guides,and highly technical professional materials.\\nSCOPE\\nAlmost 1,700 full-length articles are included in the\\nGale Encyclopedia of Medicine 2 , including disorders/\\nconditions, tests/procedures, and treatments/therapies.Many common drugs are also covered, with generic drugnames appearing first and brand names following inparentheses, eg. acetaminophen (Tylenol). Throughoutthe Gale Encyclopedia of Medicine 2 , many prominent\\nindividuals are highlighted as sidebar biographies thataccompany the main topical essays. Articles follow astandardized format that provides information at aglance. Rubrics include:\\nDisorders/Conditions Tests/Treatments\\nDefinition Definition\\nDescription Purpose\\nCauses and symptoms Precautions\\nDiagnosis DescriptionTreatment Preparation\\nAlternative treatment Aftercare\\nPrognosis Risks\\nPrevention Normal/Abnormal results\\nResources ResourcesKey terms Key terms\\nIn recent years there has been a resurgence of interest\\nin holistic medicine that emphasizes the connectionbetween mind and body. Aimed at achieving and main-taining good health rather than just eliminating disease,this approach has come to be known as alternative medi-\\ncine. The Gale Encyclopedia of Medicine 2 includes a\\nnumber of essays on alternative therapies, ranging fromtraditional Chinese medicine to homeopathy and frommeditation to aromatherapy. In addition to full essays onalternative therapies, the encyclopedia features specificAlternative treatment sections for diseases and condi-\\ntions that may be helped by complementary therapies.\\nINCLUSION CRITERIA\\nA preliminary list of diseases, disorders, tests and treat-\\nments was compiled from a wide variety of sources,including professional medical guides and textbooks aswell as consumer guides and encyclopedias. The generaladvisory board, made up of public librarians, medicallibrarians and consumer health experts, evaluated the top-ics and made suggestions for inclusion. The list was sortedby category and sent to GEM2 medical advisors, certified\\nphysicians with various medical specialities, for review.Final selection of topics to include was made by the med-ical advisors in conjunction with the Gale Group editor.\\nABOUT THE CONTRIBUTORS\\nThe essays were compiled by experienced medical\\nwriters, including physicians, pharmacists, nurses, andother health care professionals. GEM2 medical advisors\\nreviewed the completed essays to insure that they areappropriate, up-to-date, and medically accurate.\\nHOW TO USE THIS BOOK\\nThe Gale Encyclopedia of Medicine 2 has been\\ndesigned with ready reference in mind.\\n• Straight alphabetical arrangement allows users to\\nlocate information quickly.\\n• Bold-faced terms function as print hyperlinks that\\npoint the reader to related entries in the encyclopedia.\\nGALE ENCYCLOPEDIA OF MEDICINE 2 IXINTRODUCTION', metadata={'source': 'C:\\\\Users\\\\Arun Singh Negi\\\\Documents\\\\medical_bot\\\\data\\\\Medical_book.pdf', 'page': 6}),\n",
       " Document(page_content='•Cross-references placed throughout the encyclopedia\\ndirect readers to where information on subjects with-out entries can be found. Synonyms are also cross-ref-erenced.\\n• A list of key terms are provided where appropriate to\\ndefine unfamiliar terms or concepts.\\n• Valuable contact information for organizations and\\nsupport groups is included with each entry. Theappendix contains an extensive list of organizationsarranged in alphabetical order.•Resources section directs users to additional sources\\nof medical information on a topic.\\n• A comprehensive general index allows users to easily\\ntarget detailed aspects of any topic, including Latinnames.\\nGRAPHICS\\nThe Gale Encyclopedia of Medicine 2 is enhanced\\nwith over 675 color images, including photos, charts,tables, and customized line drawings.\\nGALE ENCYCLOPEDIA OF MEDICINE 2 XIntroduction', metadata={'source': 'C:\\\\Users\\\\Arun Singh Negi\\\\Documents\\\\medical_bot\\\\data\\\\Medical_book.pdf', 'page': 7}),\n",
       " Document(page_content='MEDICAL ADVISORS\\nA. Richard Adrouny, M.D.,\\nF.A.C.P.\\nClinical Assistant Professor of\\nMedicine\\nDivision of OncologyStanford UniversityDirector of Medical OncologyCommunity Hospital of Los Gatos-\\nSaratoga\\nLos Gatos, CA\\nLaurie Barclay, M.D.\\nNeurological Consulting ServicesTampa, FL\\nKenneth J. Berniker, M.D.\\nAttending PhysicianEmergency DepartmentKaiser Permanente Medical CenterVallejo, CA\\nRosalyn Carson-DeWitt, M.D.\\nDurham, NC\\nRobin Dipasquale, N.D.\\nClinical FacultyBastyr UniversitySeattle, WA\\nFaye Fishman, D.O.\\nRandolph, NJ\\nJ. Gary Grant, M.D.\\nPacific Grove, CA\\nLaith F. Gulli, M.D.\\nM.Sc., M.Sc.(MedSci), MSA,\\nMsc.Psych., MRSNZ\\nFRSH, FRIPHH, FAIC, FZSDAPA, DABFC, DABCIConsultant Psychotherapist in\\nPrivate Practice\\nLathrup Village, MI\\nL. Anne Hirschel, D.D.S.\\nSouthfield, MI\\nLarry I. Lutwick M.D., F.A.C.P.\\nDirector, Infectious DiseasesV A Medical CenterBrooklyn, NY\\nIra Michelson, M.D., M.B.A.,\\nF.A.C.O.G.\\nPhysician and Clinical InstructorUniversity of MichiganAnn Arbor, MI\\nSusan Mockus, M.D.\\nScientific ConsultantSeattle, WA\\nRalph M. Myerson, M.D.,\\nF.A.C.P.\\nClinical Professor of MedicineMedical College of Pennsylvania–\\nHahnemann University\\nPhiladelphia, PA\\nRonald Pies, M.D.\\nClinical Professor of PsychiatryTufts UniversitySchool of MedicineBoston, MA\\nLecturer on Psychiatry\\nHarvard Medical SchoolCambridge, MA\\nLee A. Shratter, M.D.\\nStaff RadiologistThe Permanente Medical Group\\nRichmond, CA\\nAmy B. Tuteur, M.D.\\nSharon, MA\\nLIBRARIAN ADVISORS\\nMaureen O. Carleton, MLISMedical Reference SpecialistKing County Library SystemBellevue, WA\\nElizabeth Clewis Crim, MLS\\nCollection SpecialistPrince William Public Library, V A\\nValerie J. Lawrence, MLS\\nAssistant LibrarianWestern States Chiropractic\\nCollege\\nPortland, OR\\nBarbara J. O’Hara, MLS\\nAdult Services LibrarianFree Library of Philadelphia, PA\\nAlan M. Rees, MLS\\nProfessor EmeritusCase Western Reserve UniversityCleveland, OH\\nGALE ENCYCLOPEDIA OF MEDICINE 2 XIADVISORY BOARD\\nA number of experts in the library and medical communities provided invaluable assistance in the formulation of this ency-\\nclopedia. Our advisory board performed a myriad of duties, from defining the scope of coverage to reviewing individualentries for accuracy and accessibility. The editor would like to express her appreciation to them.', metadata={'source': 'C:\\\\Users\\\\Arun Singh Negi\\\\Documents\\\\medical_bot\\\\data\\\\Medical_book.pdf', 'page': 8}),\n",
       " Document(page_content='Margaret Alic, Ph.D.\\nScience WriterEastsound, WA\\nJanet Byron Anderson\\nLinguist/Language ConsultantRocky River, OH\\nLisa Andres, M.S., C.G.C.\\nCertified Genetic Counselor and\\nMedical Writer\\nSan Jose, CA\\nGreg Annussek\\nMedical Writer/EditorNew York, NY\\nBill Asenjo, M.S., C.R.C.\\nScience WriterIowa City, IA\\nSharon A. Aufox, M.S., C.G.C.\\nGenetic CounselorRockford Memorial HospitalRockford, IL\\nSandra Bain Cushman\\nMassage Therapist, Alexander\\nTechnique Practitioner\\nCharlottesville, V A\\nHoward Baker\\nMedical WriterNorth York, Ontario\\nLaurie Barclay, M.D.\\nNeurological Consulting Services\\nTampa, FL\\nJeanine Barone\\nNutritionist, Exercise PhysiologistNew York, NY\\nJulia R. Barrett\\nScience WriterMadison, WIDonald G. Barstow, R.N.\\nClincal Nurse SpecialistOklahoma City, OK\\nCarin Lea Beltz, M.S.\\nGenetic Counselor and Program\\nDirector\\nThe Center for Genetic CounselingIndianapolis, IN\\nLinda K. Bennington, C.N.S.\\nScience WriterVirginia Beach, V A\\nIssac R. Berniker\\nMedical WriterVallejo, CA\\nKathleen Berrisford, M.S.V .\\nScience Writer\\nBethanne Black\\nMedical WriterAtlanta, GA\\nJennifer Bowjanowski, M.S.,\\nC.G.C.\\nGenetic CounselorChildren’s Hospital OaklandOakland, CA\\nMichelle Q. Bosworth, M.S., C.G.C.\\nGenetic CounselorEugene, OR\\nBarbara Boughton\\nHealth and Medical WriterEl Cerrito, CA\\nCheryl Branche, M.D.\\nRetired General PractitionerJackson, MS\\nMichelle Lee Brandt\\nMedical WriterSan Francisco, CAMaury M. Breecher, Ph.D.\\nHealth Communicator/JournalistNorthport, AL\\nRuthan Brodsky\\nMedical WriterBloomfield Hills, MI\\nTom Brody, Ph.D.\\nScience WriterBerkeley, CA\\nLeonard C. Bruno, Ph.D.\\nMedical WriterChevy Chase, MD\\nDiane Calbrese\\nMedical Sciences and Technology\\nWriter\\nSilver Spring, Maryland\\nRichard H. Camer\\nEditorInternational Medical News GroupSilver Spring, MD\\nRosalyn Carson-DeWitt, M.D.\\nMedical WriterDurham, NC\\nLata Cherath, Ph.D.\\nScience Writing InternCancer Research InstituteNew York, NY\\nLinda Chrisman\\nMassage Therapist and EducatorOakland, CA\\nLisa Christenson, Ph.D.\\nScience WriterHamden, CT\\nGeoffrey N. Clark, D.V .M.\\nEditorCanine Sports Medicine UpdateNewmarket, NH\\nGALE ENCYCLOPEDIA OF MEDICINE 2 XIIICONTRIBUTORS', metadata={'source': 'C:\\\\Users\\\\Arun Singh Negi\\\\Documents\\\\medical_bot\\\\data\\\\Medical_book.pdf', 'page': 9})]"
      ]
     },
     "execution_count": 7,
     "metadata": {},
     "output_type": "execute_result"
    }
   ],
   "source": [
    "extracted_data[:10]"
   ]
  },
  {
   "cell_type": "code",
   "execution_count": null,
   "metadata": {},
   "outputs": [],
   "source": []
  }
 ],
 "metadata": {
  "kernelspec": {
   "display_name": "chatbot",
   "language": "python",
   "name": "python3"
  },
  "language_info": {
   "codemirror_mode": {
    "name": "ipython",
    "version": 3
   },
   "file_extension": ".py",
   "mimetype": "text/x-python",
   "name": "python",
   "nbconvert_exporter": "python",
   "pygments_lexer": "ipython3",
   "version": "3.8.19"
  }
 },
 "nbformat": 4,
 "nbformat_minor": 2
}
